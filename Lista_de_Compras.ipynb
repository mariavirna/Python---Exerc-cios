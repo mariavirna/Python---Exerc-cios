{
  "cells": [
    {
      "cell_type": "markdown",
      "metadata": {
        "id": "view-in-github",
        "colab_type": "text"
      },
      "source": [
        "<a href=\"https://colab.research.google.com/github/mariavirna/Python---Exerc-cios/blob/main/Lista_de_Compras.ipynb\" target=\"_parent\"><img src=\"https://colab.research.google.com/assets/colab-badge.svg\" alt=\"Open In Colab\"/></a>"
      ]
    },
    {
      "cell_type": "code",
      "source": [
        "# Crie uma lista de compras de um supermercado com 10 elementos.\n",
        "# Na posição 6 crie uma lista com 5 elementos.\n",
        "\n",
        "lista = ['feijão', 'arroz', 'ovo', 'cuscuz', 'leite',\n",
        "         ['Macarrão', 'Pão', 'Suco', 'Queijo'], 'café',\n",
        "         'manteiga', 'óleo', 'sal']\n",
        "\n",
        "print(lista)"
      ],
      "metadata": {
        "id": "bHbRuQA02x3t",
        "colab": {
          "base_uri": "https://localhost:8080/"
        },
        "outputId": "5492c12b-6722-42d9-ce58-c7e0adacc8f4"
      },
      "execution_count": 6,
      "outputs": [
        {
          "output_type": "stream",
          "name": "stdout",
          "text": [
            "['feijão', 'arroz', 'ovo', 'cuscuz', 'leite', ['Macarrão', 'Pão', 'Suco', 'Queijo'], 'café', 'manteiga', 'óleo', 'sal']\n"
          ]
        }
      ]
    },
    {
      "cell_type": "code",
      "source": [
        "# Altere 2 elementos da lista.\n",
        "\n",
        "lista [2] = 'tomate'\n",
        "print(lista)"
      ],
      "metadata": {
        "colab": {
          "base_uri": "https://localhost:8080/"
        },
        "id": "6inRjmgJ6wg9",
        "outputId": "1665aae9-c7c7-419f-d9b2-5628dbcb4116"
      },
      "execution_count": 20,
      "outputs": [
        {
          "output_type": "stream",
          "name": "stdout",
          "text": [
            "['feijão', 'tomate', 'tomate', ['Macarrão', 'Pão', 'Suco', 'Queijo'], 'café', 'manteiga', 'óleo', 'sal', 'cebola', 'cenoura', 'alface', 'uva', 'cebola', 'cenoura', 'alface', 'uva']\n"
          ]
        }
      ]
    },
    {
      "cell_type": "code",
      "source": [
        "# Exclua 3 elementos da lista.\n",
        "\n",
        "lista.pop(2)\n",
        "print(lista)"
      ],
      "metadata": {
        "colab": {
          "base_uri": "https://localhost:8080/"
        },
        "id": "tyCguj-O7xCt",
        "outputId": "a4561d9f-2894-474e-d4dc-2569890fee36"
      },
      "execution_count": 19,
      "outputs": [
        {
          "output_type": "stream",
          "name": "stdout",
          "text": [
            "['feijão', 'tomate', 'leite', ['Macarrão', 'Pão', 'Suco', 'Queijo'], 'café', 'manteiga', 'óleo', 'sal', 'cebola', 'cenoura', 'alface', 'uva', 'cebola', 'cenoura', 'alface', 'uva']\n"
          ]
        }
      ]
    },
    {
      "cell_type": "code",
      "source": [
        "# Adicione 4 elementos na lista.\n",
        "\n",
        "lista.append('cebola')\n",
        "lista.append('cenoura')\n",
        "lista.append('alface')\n",
        "lista.append('uva')\n",
        "print(lista)"
      ],
      "metadata": {
        "colab": {
          "base_uri": "https://localhost:8080/"
        },
        "id": "FeSdB9nV8wie",
        "outputId": "1144c6cd-1f26-40f4-ecff-e16f6545b3db"
      },
      "execution_count": 18,
      "outputs": [
        {
          "output_type": "stream",
          "name": "stdout",
          "text": [
            "['feijão', 'tomate', 'cuscuz', 'leite', ['Macarrão', 'Pão', 'Suco', 'Queijo'], 'café', 'manteiga', 'óleo', 'sal', 'cebola', 'cenoura', 'alface', 'uva', 'cebola', 'cenoura', 'alface', 'uva']\n"
          ]
        }
      ]
    },
    {
      "cell_type": "code",
      "source": [
        "# Acesse o terceiro e quinto elemento da lista.\n",
        "print(lista[2])\n",
        "print(lista[4])"
      ],
      "metadata": {
        "colab": {
          "base_uri": "https://localhost:8080/"
        },
        "id": "xcOaoDsl-TUl",
        "outputId": "e3aaac82-340b-4a0a-d803-e0541bbdf3e3"
      },
      "execution_count": 17,
      "outputs": [
        {
          "output_type": "stream",
          "name": "stdout",
          "text": [
            "cuscuz\n",
            "['Macarrão', 'Pão', 'Suco', 'Queijo']\n"
          ]
        }
      ]
    },
    {
      "cell_type": "code",
      "source": [
        "# Mostre o número de elementos da lista.\n",
        "print(len(lista))"
      ],
      "metadata": {
        "colab": {
          "base_uri": "https://localhost:8080/"
        },
        "id": "u2aXQZX8-4t7",
        "outputId": "4cc9e87e-ad2d-4312-a7a0-861c1ff72c0a"
      },
      "execution_count": 16,
      "outputs": [
        {
          "output_type": "stream",
          "name": "stdout",
          "text": [
            "13\n"
          ]
        }
      ]
    },
    {
      "cell_type": "code",
      "source": [
        "print(lista)"
      ],
      "metadata": {
        "colab": {
          "base_uri": "https://localhost:8080/"
        },
        "id": "btXeIJpJBLYC",
        "outputId": "227861df-3693-41f4-e829-595e042fca9a"
      },
      "execution_count": 21,
      "outputs": [
        {
          "output_type": "stream",
          "name": "stdout",
          "text": [
            "['feijão', 'tomate', 'tomate', ['Macarrão', 'Pão', 'Suco', 'Queijo'], 'café', 'manteiga', 'óleo', 'sal', 'cebola', 'cenoura', 'alface', 'uva', 'cebola', 'cenoura', 'alface', 'uva']\n"
          ]
        }
      ]
    }
  ],
  "metadata": {
    "colab": {
      "toc_visible": true,
      "provenance": [],
      "include_colab_link": true
    },
    "kernelspec": {
      "display_name": "Python 3",
      "name": "python3"
    }
  },
  "nbformat": 4,
  "nbformat_minor": 0
}